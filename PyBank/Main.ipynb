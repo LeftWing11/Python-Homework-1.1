{
 "cells": [
  {
   "cell_type": "code",
   "execution_count": 3,
   "id": "8e4acaa3-8329-4a55-9443-c3a88a3247df",
   "metadata": {},
   "outputs": [
    {
     "name": "stdout",
     "output_type": "stream",
     "text": [
      "Financial Analysis\n",
      "------------------------------\n",
      "Total Months: 86\n",
      "Total: $38382578\n",
      "Average Change: $-2315.12\n",
      "Greatest Increase in Profits: Feb-2012, ($1926159.0)\n",
      "Greatest Decrease in Profits: Sep-2013, ($-2196167.0)\n"
     ]
    }
   ],
   "source": [
    "#importing required libraries\n",
    "from pathlib import Path\n",
    "import pandas as pd\n",
    "csvpath = Path(\"budget_data.csv\")\n",
    "results = pd.read_csv(csvpath)\n",
    "\n",
    "#Total Months Calculation\n",
    "total_months = len(results)\n",
    "\n",
    "#Using Pandas to attain sum of profit/losses\n",
    "net_total = results['Profit/Losses'].sum()\n",
    "\n",
    "#Setting up a data frame that holds the profit/losses differences\n",
    "results['Change'] = results['Profit/Losses'].diff()\n",
    "\n",
    "#Getting the average change \n",
    "average_change = results['Change'].mean()\n",
    "average_change = format(average_change, \".2f\")\n",
    "\n",
    "#acessing full data for max_increase value\n",
    "max_increase = results[results['Change'] == results['Change'].max()]\n",
    "\n",
    "#acessing full data for min_increase value\n",
    "min_increase = results[results['Change'] == results['Change'].min()]\n",
    "\n",
    "#acessing max and min increase values and dates\n",
    "max_increase_amount = max_increase['Change'].values[0]\n",
    "max_increase_date = max_increase['Date'].values[0]\n",
    "min_increase_amount = min_increase['Change'].values[0]\n",
    "min_increase_date = min_increase['Date'].values[0]\n",
    "\n",
    "#printing results\n",
    "print(\"Financial Analysis\")\n",
    "print('-' * 30)\n",
    "print(f\"Total Months: {total_months}\")\n",
    "print(f\"Total: ${net_total}\")\n",
    "print(f\"Average Change: ${average_change}\")\n",
    "print(f\"Greatest Increase in Profits: {max_increase_date}, (${max_increase_amount})\")\n",
    "print(f\"Greatest Decrease in Profits: {min_increase_date}, (${min_increase_amount})\")"
   ]
  },
  {
   "cell_type": "code",
   "execution_count": null,
   "id": "2f4633d3-0260-48d2-aa16-ffbf82e788e2",
   "metadata": {},
   "outputs": [],
   "source": []
  },
  {
   "cell_type": "code",
   "execution_count": null,
   "id": "6ac14ad1-e187-4fa2-88b1-3727eaa7f999",
   "metadata": {},
   "outputs": [],
   "source": []
  }
 ],
 "metadata": {
  "kernelspec": {
   "display_name": "Python 3 (ipykernel)",
   "language": "python",
   "name": "python3"
  },
  "language_info": {
   "codemirror_mode": {
    "name": "ipython",
    "version": 3
   },
   "file_extension": ".py",
   "mimetype": "text/x-python",
   "name": "python",
   "nbconvert_exporter": "python",
   "pygments_lexer": "ipython3",
   "version": "3.10.9"
  }
 },
 "nbformat": 4,
 "nbformat_minor": 5
}
